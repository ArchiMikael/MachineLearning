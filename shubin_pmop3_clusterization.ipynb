{
 "cells": [
  {
   "cell_type": "markdown",
   "id": "68bee6a7-7846-426b-9c70-22cea7221712",
   "metadata": {},
   "source": [
    "**Шубин Михаил, гр. 3821Б1ПМоп3**"
   ]
  },
  {
   "cell_type": "markdown",
   "id": "0d5fc8ea-5bf6-4389-a889-4594c05ba5f0",
   "metadata": {},
   "source": [
    "## **1. Чтение данных**"
   ]
  },
  {
   "cell_type": "code",
   "execution_count": 1,
   "id": "47c59160-a01d-43e8-849f-77bef59d6b00",
   "metadata": {},
   "outputs": [],
   "source": [
    "# Подключение модулей\n",
    "import matplotlib.pyplot as plt\n",
    "%matplotlib inline\n",
    "import pandas as pd\n",
    "from sklearn.preprocessing import StandardScaler\n",
    "from sklearn.cluster import KMeans\n",
    "from sklearn.cluster import DBSCAN\n",
    "from sklearn.cluster import AgglomerativeClustering"
   ]
  },
  {
   "cell_type": "code",
   "execution_count": 2,
   "id": "7e975af2-1d60-40d9-88fd-a0f65a960e52",
   "metadata": {
    "scrolled": true
   },
   "outputs": [
    {
     "name": "stdout",
     "output_type": "stream",
     "text": [
      "<class 'pandas.core.frame.DataFrame'>\n",
      "RangeIndex: 20000 entries, 0 to 19999\n",
      "Data columns (total 33 columns):\n",
      " #   Column                      Non-Null Count  Dtype  \n",
      "---  ------                      --------------  -----  \n",
      " 0   Age                         20000 non-null  int64  \n",
      " 1   AnnualIncome                20000 non-null  int64  \n",
      " 2   CreditScore                 20000 non-null  int64  \n",
      " 3   EmploymentStatus            20000 non-null  object \n",
      " 4   EducationLevel              20000 non-null  object \n",
      " 5   Experience                  20000 non-null  int64  \n",
      " 6   LoanAmount                  20000 non-null  int64  \n",
      " 7   LoanDuration                20000 non-null  int64  \n",
      " 8   MaritalStatus               20000 non-null  object \n",
      " 9   NumberOfDependents          20000 non-null  int64  \n",
      " 10  HomeOwnershipStatus         20000 non-null  object \n",
      " 11  MonthlyDebtPayments         20000 non-null  int64  \n",
      " 12  CreditCardUtilizationRate   20000 non-null  float64\n",
      " 13  NumberOfOpenCreditLines     20000 non-null  int64  \n",
      " 14  NumberOfCreditInquiries     20000 non-null  int64  \n",
      " 15  DebtToIncomeRatio           20000 non-null  float64\n",
      " 16  BankruptcyHistory           20000 non-null  int64  \n",
      " 17  LoanPurpose                 20000 non-null  object \n",
      " 18  PreviousLoanDefaults        20000 non-null  int64  \n",
      " 19  PaymentHistory              20000 non-null  int64  \n",
      " 20  LengthOfCreditHistory       20000 non-null  int64  \n",
      " 21  SavingsAccountBalance       20000 non-null  int64  \n",
      " 22  CheckingAccountBalance      20000 non-null  int64  \n",
      " 23  TotalAssets                 20000 non-null  int64  \n",
      " 24  TotalLiabilities            20000 non-null  int64  \n",
      " 25  MonthlyIncome               20000 non-null  float64\n",
      " 26  UtilityBillsPaymentHistory  20000 non-null  float64\n",
      " 27  JobTenure                   20000 non-null  int64  \n",
      " 28  NetWorth                    20000 non-null  int64  \n",
      " 29  BaseInterestRate            20000 non-null  float64\n",
      " 30  InterestRate                20000 non-null  float64\n",
      " 31  MonthlyLoanPayment          20000 non-null  float64\n",
      " 32  TotalDebtToIncomeRatio      20000 non-null  float64\n",
      "dtypes: float64(8), int64(20), object(5)\n",
      "memory usage: 5.0+ MB\n"
     ]
    }
   ],
   "source": [
    "# Загрузка датасета\n",
    "raw_data = pd.read_csv(\"./Data/Loan.csv\")\n",
    "true_labels = (raw_data['LoanApproved']).to_numpy() # Используем признак для классификации для проверки кластеризации\n",
    "raw_data = raw_data.drop(['ApplicationDate', 'LoanApproved', 'RiskScore'], axis=1) # Удаление даты, поскольку она не имеет смыслового влияния на задачу, но добавляет лишнюю сложность, а также признаков для классификации и регрессии\n",
    "\n",
    "# Выделение численных признаков\n",
    "numeric_feat = []\n",
    "for feat in raw_data.keys():\n",
    "  if ((raw_data.dtypes[feat] == 'float64' or raw_data.dtypes[feat] == 'int64') and feat != 'LoanApproved'):\n",
    "      numeric_feat.append(feat)\n",
    "\n",
    "raw_data.info()"
   ]
  },
  {
   "cell_type": "markdown",
   "id": "6cf63030-49ee-47f1-aa95-eec7f61a21fd",
   "metadata": {},
   "source": [
    "## **2. Обработка данных**"
   ]
  },
  {
   "cell_type": "code",
   "execution_count": 3,
   "id": "c45d07d1-fadd-4882-9638-29234e31fdd7",
   "metadata": {},
   "outputs": [],
   "source": [
    "# Преобразование категориальных признаков\n",
    "for_use_data = pd.get_dummies(raw_data, columns=['EmploymentStatus', 'EducationLevel', 'MaritalStatus', 'HomeOwnershipStatus', 'LoanPurpose'], drop_first=True)\n",
    "\n",
    "# Нормализация численных признаков\n",
    "scaler = StandardScaler()\n",
    "for_use_data[numeric_feat] = scaler.fit_transform(for_use_data[numeric_feat])\n",
    "for_use_data = for_use_data.astype(float)"
   ]
  },
  {
   "cell_type": "markdown",
   "id": "d4dd94de-477a-481f-96df-36e080fc02e2",
   "metadata": {},
   "source": [
    "## **3. KMeans**"
   ]
  },
  {
   "cell_type": "code",
   "execution_count": 5,
   "id": "48017dab-3d6b-481b-8e30-d2ed3a7cacc2",
   "metadata": {},
   "outputs": [
    {
     "name": "stdout",
     "output_type": "stream",
     "text": [
      "Обнаружено 2 кластера(ов).\n",
      "12985 элементов имеют корректные предсказанные метки. Это означает 64.925% корректность.\n"
     ]
    }
   ],
   "source": [
    "clustering = KMeans(n_clusters=2, random_state=0, n_init=10, tol=1e-8).fit(for_use_data)\n",
    "\n",
    "print(f\"Обнаружено {len(set(clustering.labels_))} кластера(ов).\")\n",
    "correct = 0\n",
    "class_correctness = {}\n",
    "for i in range(len(clustering.labels_)):\n",
    "    if (clustering.labels_[i] == true_labels[i]):\n",
    "        correct += 1\n",
    "        class_correctness[clustering.labels_[i]] = (1) if not (clustering.labels_[i] in class_correctness.keys()) else (class_correctness[clustering.labels_[i]] + 1)\n",
    "print(f\"{correct} элементов имеют корректные предсказанные метки. Это означает {correct/len(true_labels)*100}% корректность.\")\n",
    "#print(class_correctness)"
   ]
  },
  {
   "cell_type": "markdown",
   "id": "98c148f1-c10b-43c3-ab5f-92d3803c67b6",
   "metadata": {},
   "source": [
    "## **4. DBSCAN**"
   ]
  },
  {
   "cell_type": "code",
   "execution_count": 7,
   "id": "f7f90c9d-bbd5-43c6-a915-b77ae6c5fce7",
   "metadata": {},
   "outputs": [
    {
     "name": "stdout",
     "output_type": "stream",
     "text": [
      "Обнаружено 2 кластера(ов).\n",
      "13972 элементов имеют корректные предсказанные метки. Это означает 69.86% корректность.\n"
     ]
    }
   ],
   "source": [
    "clustering = DBSCAN(eps=5.01, min_samples=8).fit(for_use_data)\n",
    "\n",
    "print(f\"Обнаружено {len(set(clustering.labels_)) - (1) if ((-1) in clustering.labels_) else (0)} кластера(ов).\") # -1 - особая метка для \"шума\"\n",
    "correct = 0\n",
    "class_correctness = {}\n",
    "for i in range(len(clustering.labels_)):\n",
    "    if (clustering.labels_[i] == true_labels[i]):\n",
    "        correct += 1\n",
    "        class_correctness[clustering.labels_[i]] = (1) if not (clustering.labels_[i] in class_correctness.keys()) else (class_correctness[clustering.labels_[i]] + 1)\n",
    "print(f\"{correct} элементов имеют корректные предсказанные метки. Это означает {correct/len(true_labels)*100}% корректность.\")\n",
    "#print(class_correctness)"
   ]
  },
  {
   "cell_type": "markdown",
   "id": "d9aa9aa7-b6b5-4286-b7c6-de25db4cf2be",
   "metadata": {},
   "source": [
    "## **5. AgglomerativeClustering (дополнительный метод)**"
   ]
  },
  {
   "cell_type": "code",
   "execution_count": 9,
   "id": "1f4b1a65-3ab9-4ecb-9069-601663c6f8d8",
   "metadata": {},
   "outputs": [
    {
     "name": "stdout",
     "output_type": "stream",
     "text": [
      "Обнаружено 2 кластера(ов).\n",
      "14401 элементов имеют корректные предсказанные метки. Это означает 72.005% корректность.\n"
     ]
    }
   ],
   "source": [
    "clustering = AgglomerativeClustering().fit(for_use_data)\n",
    "\n",
    "print(f\"Обнаружено {len(set(clustering.labels_))} кластера(ов).\")\n",
    "correct = 0\n",
    "class_correctness = {}\n",
    "for i in range(len(clustering.labels_)):\n",
    "    if (clustering.labels_[i] == true_labels[i]):\n",
    "        correct += 1\n",
    "        class_correctness[clustering.labels_[i]] = (1) if not (clustering.labels_[i] in class_correctness.keys()) else (class_correctness[clustering.labels_[i]] + 1)\n",
    "print(f\"{correct} элементов имеют корректные предсказанные метки. Это означает {correct/len(true_labels)*100}% корректность.\")\n",
    "#print(class_correctness)"
   ]
  }
 ],
 "metadata": {
  "kernelspec": {
   "display_name": "Python 3 (ipykernel)",
   "language": "python",
   "name": "python3"
  },
  "language_info": {
   "codemirror_mode": {
    "name": "ipython",
    "version": 3
   },
   "file_extension": ".py",
   "mimetype": "text/x-python",
   "name": "python",
   "nbconvert_exporter": "python",
   "pygments_lexer": "ipython3",
   "version": "3.8.0"
  }
 },
 "nbformat": 4,
 "nbformat_minor": 5
}
